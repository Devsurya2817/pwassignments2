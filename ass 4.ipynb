{
 "cells": [
  {
   "cell_type": "markdown",
   "id": "a027c4bd-0f08-4931-8cf7-84af42e85bf8",
   "metadata": {},
   "source": [
    "1) Which keyword is used to create a function? Create a function to return a list of odd numbers in the \n",
    "range of 1 to 25.\n"
   ]
  },
  {
   "cell_type": "markdown",
   "id": "dc694533-5c02-49d5-a92f-ba2838f4b2ff",
   "metadata": {},
   "source": [
    "ans)def keyword is used to create a function"
   ]
  },
  {
   "cell_type": "code",
   "execution_count": 2,
   "id": "bf63c54e-890a-4876-b56f-307da9e55f83",
   "metadata": {},
   "outputs": [],
   "source": [
    "def odd_nos(*args):\n",
    "    l=[]\n",
    "    for i in range(*args):\n",
    "        if i%2!=0:\n",
    "            l.append(i)\n",
    "    return l"
   ]
  },
  {
   "cell_type": "code",
   "execution_count": 3,
   "id": "159c3c43-026d-412f-acde-14c599149655",
   "metadata": {},
   "outputs": [
    {
     "data": {
      "text/plain": [
       "[1, 3, 5, 7, 9, 11, 13, 15, 17, 19, 21, 23]"
      ]
     },
     "execution_count": 3,
     "metadata": {},
     "output_type": "execute_result"
    }
   ],
   "source": [
    "odd_nos(1,25)"
   ]
  },
  {
   "cell_type": "markdown",
   "id": "c80d4aa2-30b6-4bc8-8773-93806d26d323",
   "metadata": {},
   "source": [
    "2)Why *args and **kwargs is used in some functions? Create a function each for *args and **kwargs to \n",
    "demonstrate their use."
   ]
  },
  {
   "cell_type": "markdown",
   "id": "2e02a0af-618c-41ee-8416-88dc70b558da",
   "metadata": {},
   "source": [
    "Ans)  *args: is used to input any no' of arguments to the function whereas **kwargs are used to  input any no' of key value pairs as a dictionary to the function\n"
   ]
  },
  {
   "cell_type": "code",
   "execution_count": 4,
   "id": "ae9dc0d5-5228-461b-a899-822660c0bc73",
   "metadata": {},
   "outputs": [],
   "source": [
    "def test(*args,**kwargs):\n",
    "    return args,kwargs\n",
    "\n",
    "    "
   ]
  },
  {
   "cell_type": "code",
   "execution_count": 5,
   "id": "09420483-9701-44c7-a831-e2408a044abf",
   "metadata": {},
   "outputs": [
    {
     "data": {
      "text/plain": [
       "((1, 2, 3, 4, 5), {'a': 'devsurya', 'b': 'lakshmi', 'c': 'gayathri'})"
      ]
     },
     "execution_count": 5,
     "metadata": {},
     "output_type": "execute_result"
    }
   ],
   "source": [
    "test(1,2,3,4,5,a=\"devsurya\",b=\"lakshmi\",c=\"gayathri\")"
   ]
  },
  {
   "cell_type": "markdown",
   "id": "673b067e-3d86-483d-8031-bda1f488b749",
   "metadata": {},
   "source": [
    "3)  What is an iterator in python? Name the method used to initialise the iterator object and the method \n",
    "used for iteration. Use these methods to print the first five elements of the given list [2, 4, 6, 8, 10, 12, 14, 16, \n",
    "18, 20]"
   ]
  },
  {
   "cell_type": "markdown",
   "id": "a35431b0-de3c-4a94-9b81-e7d9655ded97",
   "metadata": {},
   "source": [
    "ans) An iterator is an object that countable entities or elements for example list,tuple,set etc"
   ]
  },
  {
   "cell_type": "markdown",
   "id": "b9453ecd-4d2b-4e6a-ab42-9c4d4b8b28d4",
   "metadata": {},
   "source": [
    "for loop is the method used for iteration"
   ]
  },
  {
   "cell_type": "code",
   "execution_count": 6,
   "id": "3a4b819c-7fa0-4431-bd85-ab37f112bbd5",
   "metadata": {},
   "outputs": [],
   "source": [
    "l=[2,4,6,8,10,12,14,16,18,20]"
   ]
  },
  {
   "cell_type": "code",
   "execution_count": 14,
   "id": "ab1296b6-acfb-4f8e-9f33-6f495ecf215d",
   "metadata": {},
   "outputs": [
    {
     "name": "stdout",
     "output_type": "stream",
     "text": [
      "2\n",
      "4\n",
      "6\n",
      "8\n",
      "10\n"
     ]
    }
   ],
   "source": [
    "for i in l[0:5] :\n",
    "    print(i)\n",
    "    \n",
    "    "
   ]
  },
  {
   "cell_type": "markdown",
   "id": "2f55a678-d67b-42d0-a462-61947db0273c",
   "metadata": {},
   "source": [
    "4)  What is a generator function in python? Why yield keyword is used? Give an example of a generator \n",
    "function"
   ]
  },
  {
   "cell_type": "markdown",
   "id": "f1bfc9ba-e0b8-43bd-af53-effaaecb5dd9",
   "metadata": {},
   "source": [
    "generator function declares a function as an iterator "
   ]
  },
  {
   "cell_type": "markdown",
   "id": "f792bd63-9ba5-4880-b003-5c6c53d3eb8d",
   "metadata": {},
   "source": [
    "yield keyword is used to create a generator function. example : fibonacci series"
   ]
  },
  {
   "cell_type": "markdown",
   "id": "120000d0-50f0-4681-8af2-4545c5f55b22",
   "metadata": {},
   "source": [
    "5)Create a generator function for prime numbers less than 1000. Use the next() method to print the \n",
    "first 20 prime numbers."
   ]
  },
  {
   "cell_type": "code",
   "execution_count": null,
   "id": "8be209a9-1932-457d-b106-0efd7ff49c2f",
   "metadata": {},
   "outputs": [],
   "source": [
    "def test_prime()"
   ]
  }
 ],
 "metadata": {
  "kernelspec": {
   "display_name": "Python 3 (ipykernel)",
   "language": "python",
   "name": "python3"
  },
  "language_info": {
   "codemirror_mode": {
    "name": "ipython",
    "version": 3
   },
   "file_extension": ".py",
   "mimetype": "text/x-python",
   "name": "python",
   "nbconvert_exporter": "python",
   "pygments_lexer": "ipython3",
   "version": "3.10.8"
  }
 },
 "nbformat": 4,
 "nbformat_minor": 5
}
